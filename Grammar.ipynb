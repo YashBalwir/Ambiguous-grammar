{
 "cells": [
  {
   "cell_type": "code",
   "execution_count": 1,
   "metadata": {},
   "outputs": [],
   "source": [
    "def expand(grammar, symbol):\n",
    "    result = []\n",
    "    for rule in grammar:\n",
    "        if rule[0] == symbol:\n",
    "            result.append(rule[1])\n",
    "    return result\n",
    "\n",
    "def expand_first_nonterminal(grammar, string):\n",
    "    result = []\n",
    "    for i in range(len(string)):\n",
    "        if isterminal(grammar, string[i]) == False:\n",
    "            for j in expand(grammar, string[i]):\n",
    "                result.append(string[:i]+j+string[i+1:])\n",
    "            return result\n",
    "    return None\n",
    "\n",
    "def full_expand_string(grammar,string, result):\n",
    "    for i in expand_first_nonterminal(grammar,string):\n",
    "        if allterminals(grammar,i):\n",
    "            result.append(i)\n",
    "        else:\n",
    "            full_expand_string(grammar,i,result)\n",
    "\n",
    "def isterminal(grammar,symbol):\n",
    "    for rule in grammar:\n",
    "        if rule[0] == symbol:\n",
    "            return False\n",
    "    return True\n",
    "\n",
    "def allterminals(grammar,string):\n",
    "    for symbol in string:\n",
    "        if isterminal(grammar,symbol) == False:\n",
    "            return False\n",
    "    return True\n",
    "\n",
    "def returnall(grammar, start):\n",
    "    result = []\n",
    "    for rule in grammar:\n",
    "        if rule[0] == start:\n",
    "            if allterminals(grammar,rule[1]):\n",
    "                return rule[1]\n",
    "            else:\n",
    "                full_expand_string(grammar, rule[1], result)\n",
    "    return result\n",
    "\n",
    "def isambig(grammar, start, utterance):\n",
    "    count = 0\n",
    "    for i in returnall(grammar,start):\n",
    "        if i == utterance:\n",
    "            count+=1\n",
    "    if count > 1:\n",
    "        return True\n",
    "    else:\n",
    "        return False\n"
   ]
  },
  {
   "cell_type": "code",
   "execution_count": 2,
   "metadata": {},
   "outputs": [],
   "source": [
    "grammar1 = [\n",
    "       (\"S\", [ \"P\", ]),\n",
    "       (\"S\", [ \"a\", \"Q\", ]) ,\n",
    "       (\"P\", [ \"a\", \"T\"]),\n",
    "       (\"P\", [ \"c\" ]),\n",
    "       (\"Q\", [ \"b\" ]),\n",
    "       (\"T\", [ \"b\" ]),\n",
    "       ]"
   ]
  },
  {
   "cell_type": "code",
   "execution_count": 3,
   "metadata": {},
   "outputs": [
    {
     "name": "stdout",
     "output_type": "stream",
     "text": [
      "True\n",
      "False\n"
     ]
    }
   ],
   "source": [
    "print(isambig(grammar1, \"S\", [\"a\", \"b\"]))\n",
    "print(isambig(grammar1, \"S\", [\"c\"]))"
   ]
  },
  {
   "cell_type": "code",
   "execution_count": null,
   "metadata": {},
   "outputs": [],
   "source": []
  }
 ],
 "metadata": {
  "kernelspec": {
   "display_name": "Python 3",
   "language": "python",
   "name": "python3"
  },
  "language_info": {
   "codemirror_mode": {
    "name": "ipython",
    "version": 3
   },
   "file_extension": ".py",
   "mimetype": "text/x-python",
   "name": "python",
   "nbconvert_exporter": "python",
   "pygments_lexer": "ipython3",
   "version": "3.7.3"
  }
 },
 "nbformat": 4,
 "nbformat_minor": 2
}
